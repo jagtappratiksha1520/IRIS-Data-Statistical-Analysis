{
 "cells": [
  {
   "cell_type": "markdown",
   "id": "986910d0-d34a-4471-b624-223d5a11ec48",
   "metadata": {},
   "source": [
    "# import packages"
   ]
  },
  {
   "cell_type": "markdown",
   "id": "e812fdbf-7473-4939-9c75-d9a496bfab7a",
   "metadata": {},
   "source": [
    "##### \n",
    "Importing pandas for data manipulation, Importing numpy for numerical computations, Importing matplotlib for plotting, Importing seaborn for statistical data visualization, Importing plotly express for interactive plotting,"
   ]
  },
  {
   "cell_type": "code",
   "execution_count": 2,
   "id": "ba565076-5eba-44a6-8629-823b4f10a44f",
   "metadata": {},
   "outputs": [],
   "source": [
    "import numpy as np\n",
    "import pandas as pd\n",
    "import scipy.stats as stats\n",
    "import matplotlib.pyplot as plt\n",
    "import seaborn as sns\n",
    "from scipy.stats import ttest_ind"
   ]
  },
  {
   "cell_type": "code",
   "execution_count": 3,
   "id": "0489129f-0851-4756-8cf4-7ebbf95a01b9",
   "metadata": {},
   "outputs": [
    {
     "data": {
      "text/html": [
       "<div>\n",
       "<style scoped>\n",
       "    .dataframe tbody tr th:only-of-type {\n",
       "        vertical-align: middle;\n",
       "    }\n",
       "\n",
       "    .dataframe tbody tr th {\n",
       "        vertical-align: top;\n",
       "    }\n",
       "\n",
       "    .dataframe thead th {\n",
       "        text-align: right;\n",
       "    }\n",
       "</style>\n",
       "<table border=\"1\" class=\"dataframe\">\n",
       "  <thead>\n",
       "    <tr style=\"text-align: right;\">\n",
       "      <th></th>\n",
       "      <th>sepal_length</th>\n",
       "      <th>sepal_width</th>\n",
       "      <th>petal_length</th>\n",
       "      <th>petal_width</th>\n",
       "      <th>avg_width</th>\n",
       "      <th>season</th>\n",
       "      <th>species</th>\n",
       "      <th>quality</th>\n",
       "    </tr>\n",
       "  </thead>\n",
       "  <tbody>\n",
       "    <tr>\n",
       "      <th>0</th>\n",
       "      <td>5.1</td>\n",
       "      <td>3.5</td>\n",
       "      <td>1.4</td>\n",
       "      <td>0.2</td>\n",
       "      <td>2.550</td>\n",
       "      <td>summer</td>\n",
       "      <td>Iris-setosa</td>\n",
       "      <td>good quality</td>\n",
       "    </tr>\n",
       "    <tr>\n",
       "      <th>1</th>\n",
       "      <td>4.9</td>\n",
       "      <td>3.0</td>\n",
       "      <td>1.4</td>\n",
       "      <td>0.2</td>\n",
       "      <td>2.375</td>\n",
       "      <td>winter</td>\n",
       "      <td>Iris-setosa</td>\n",
       "      <td>bad quality</td>\n",
       "    </tr>\n",
       "    <tr>\n",
       "      <th>2</th>\n",
       "      <td>4.7</td>\n",
       "      <td>3.2</td>\n",
       "      <td>1.3</td>\n",
       "      <td>0.2</td>\n",
       "      <td>2.350</td>\n",
       "      <td>summer</td>\n",
       "      <td>Iris-setosa</td>\n",
       "      <td>good quality</td>\n",
       "    </tr>\n",
       "    <tr>\n",
       "      <th>3</th>\n",
       "      <td>4.6</td>\n",
       "      <td>3.1</td>\n",
       "      <td>1.5</td>\n",
       "      <td>0.2</td>\n",
       "      <td>2.350</td>\n",
       "      <td>winter</td>\n",
       "      <td>Iris-setosa</td>\n",
       "      <td>bad quality</td>\n",
       "    </tr>\n",
       "    <tr>\n",
       "      <th>4</th>\n",
       "      <td>5.0</td>\n",
       "      <td>3.6</td>\n",
       "      <td>1.4</td>\n",
       "      <td>0.2</td>\n",
       "      <td>2.550</td>\n",
       "      <td>summer</td>\n",
       "      <td>Iris-setosa</td>\n",
       "      <td>bad quality</td>\n",
       "    </tr>\n",
       "    <tr>\n",
       "      <th>...</th>\n",
       "      <td>...</td>\n",
       "      <td>...</td>\n",
       "      <td>...</td>\n",
       "      <td>...</td>\n",
       "      <td>...</td>\n",
       "      <td>...</td>\n",
       "      <td>...</td>\n",
       "      <td>...</td>\n",
       "    </tr>\n",
       "    <tr>\n",
       "      <th>146</th>\n",
       "      <td>6.3</td>\n",
       "      <td>2.5</td>\n",
       "      <td>5.0</td>\n",
       "      <td>1.9</td>\n",
       "      <td>3.925</td>\n",
       "      <td>summer</td>\n",
       "      <td>Iris-virginica</td>\n",
       "      <td>good quality</td>\n",
       "    </tr>\n",
       "    <tr>\n",
       "      <th>147</th>\n",
       "      <td>6.5</td>\n",
       "      <td>3.0</td>\n",
       "      <td>5.2</td>\n",
       "      <td>2.0</td>\n",
       "      <td>4.175</td>\n",
       "      <td>winter</td>\n",
       "      <td>Iris-virginica</td>\n",
       "      <td>good quality</td>\n",
       "    </tr>\n",
       "    <tr>\n",
       "      <th>148</th>\n",
       "      <td>6.2</td>\n",
       "      <td>3.4</td>\n",
       "      <td>5.4</td>\n",
       "      <td>2.3</td>\n",
       "      <td>4.325</td>\n",
       "      <td>summer</td>\n",
       "      <td>Iris-virginica</td>\n",
       "      <td>good quality</td>\n",
       "    </tr>\n",
       "    <tr>\n",
       "      <th>149</th>\n",
       "      <td>5.9</td>\n",
       "      <td>3.0</td>\n",
       "      <td>5.1</td>\n",
       "      <td>1.8</td>\n",
       "      <td>3.950</td>\n",
       "      <td>winter</td>\n",
       "      <td>Iris-virginica</td>\n",
       "      <td>good quality</td>\n",
       "    </tr>\n",
       "    <tr>\n",
       "      <th>150</th>\n",
       "      <td>NaN</td>\n",
       "      <td>NaN</td>\n",
       "      <td>NaN</td>\n",
       "      <td>0.0</td>\n",
       "      <td>NaN</td>\n",
       "      <td>NaN</td>\n",
       "      <td>NaN</td>\n",
       "      <td>NaN</td>\n",
       "    </tr>\n",
       "  </tbody>\n",
       "</table>\n",
       "<p>151 rows × 8 columns</p>\n",
       "</div>"
      ],
      "text/plain": [
       "     sepal_length  sepal_width  petal_length  petal_width  avg_width   season  \\\n",
       "0             5.1          3.5           1.4          0.2      2.550  summer    \n",
       "1             4.9          3.0           1.4          0.2      2.375   winter   \n",
       "2             4.7          3.2           1.3          0.2      2.350  summer    \n",
       "3             4.6          3.1           1.5          0.2      2.350   winter   \n",
       "4             5.0          3.6           1.4          0.2      2.550  summer    \n",
       "..            ...          ...           ...          ...        ...      ...   \n",
       "146           6.3          2.5           5.0          1.9      3.925  summer    \n",
       "147           6.5          3.0           5.2          2.0      4.175   winter   \n",
       "148           6.2          3.4           5.4          2.3      4.325  summer    \n",
       "149           5.9          3.0           5.1          1.8      3.950   winter   \n",
       "150           NaN          NaN           NaN          0.0        NaN      NaN   \n",
       "\n",
       "            species       quality  \n",
       "0       Iris-setosa  good quality  \n",
       "1       Iris-setosa   bad quality  \n",
       "2       Iris-setosa  good quality  \n",
       "3       Iris-setosa   bad quality  \n",
       "4       Iris-setosa   bad quality  \n",
       "..              ...           ...  \n",
       "146  Iris-virginica  good quality  \n",
       "147  Iris-virginica  good quality  \n",
       "148  Iris-virginica  good quality  \n",
       "149  Iris-virginica  good quality  \n",
       "150             NaN           NaN  \n",
       "\n",
       "[151 rows x 8 columns]"
      ]
     },
     "execution_count": 3,
     "metadata": {},
     "output_type": "execute_result"
    }
   ],
   "source": [
    "df=pd.read_csv(\"IRIS_new.csv\")\n",
    "df"
   ]
  },
  {
   "cell_type": "markdown",
   "id": "fb7d6df6-3bbe-4c40-9bae-4d9f3ee1c878",
   "metadata": {},
   "source": [
    "# Head()"
   ]
  },
  {
   "cell_type": "markdown",
   "id": "2f660df9-c86e-4a44-939d-46823b5dbfaa",
   "metadata": {},
   "source": [
    "used to display the first few rows of the dataset."
   ]
  },
  {
   "cell_type": "code",
   "execution_count": 4,
   "id": "78d78b04-3fa3-4e14-bac6-03633b379c8f",
   "metadata": {},
   "outputs": [
    {
     "data": {
      "text/html": [
       "<div>\n",
       "<style scoped>\n",
       "    .dataframe tbody tr th:only-of-type {\n",
       "        vertical-align: middle;\n",
       "    }\n",
       "\n",
       "    .dataframe tbody tr th {\n",
       "        vertical-align: top;\n",
       "    }\n",
       "\n",
       "    .dataframe thead th {\n",
       "        text-align: right;\n",
       "    }\n",
       "</style>\n",
       "<table border=\"1\" class=\"dataframe\">\n",
       "  <thead>\n",
       "    <tr style=\"text-align: right;\">\n",
       "      <th></th>\n",
       "      <th>sepal_length</th>\n",
       "      <th>sepal_width</th>\n",
       "      <th>petal_length</th>\n",
       "      <th>petal_width</th>\n",
       "      <th>avg_width</th>\n",
       "      <th>season</th>\n",
       "      <th>species</th>\n",
       "      <th>quality</th>\n",
       "    </tr>\n",
       "  </thead>\n",
       "  <tbody>\n",
       "    <tr>\n",
       "      <th>0</th>\n",
       "      <td>5.1</td>\n",
       "      <td>3.5</td>\n",
       "      <td>1.4</td>\n",
       "      <td>0.2</td>\n",
       "      <td>2.550</td>\n",
       "      <td>summer</td>\n",
       "      <td>Iris-setosa</td>\n",
       "      <td>good quality</td>\n",
       "    </tr>\n",
       "    <tr>\n",
       "      <th>1</th>\n",
       "      <td>4.9</td>\n",
       "      <td>3.0</td>\n",
       "      <td>1.4</td>\n",
       "      <td>0.2</td>\n",
       "      <td>2.375</td>\n",
       "      <td>winter</td>\n",
       "      <td>Iris-setosa</td>\n",
       "      <td>bad quality</td>\n",
       "    </tr>\n",
       "    <tr>\n",
       "      <th>2</th>\n",
       "      <td>4.7</td>\n",
       "      <td>3.2</td>\n",
       "      <td>1.3</td>\n",
       "      <td>0.2</td>\n",
       "      <td>2.350</td>\n",
       "      <td>summer</td>\n",
       "      <td>Iris-setosa</td>\n",
       "      <td>good quality</td>\n",
       "    </tr>\n",
       "    <tr>\n",
       "      <th>3</th>\n",
       "      <td>4.6</td>\n",
       "      <td>3.1</td>\n",
       "      <td>1.5</td>\n",
       "      <td>0.2</td>\n",
       "      <td>2.350</td>\n",
       "      <td>winter</td>\n",
       "      <td>Iris-setosa</td>\n",
       "      <td>bad quality</td>\n",
       "    </tr>\n",
       "    <tr>\n",
       "      <th>4</th>\n",
       "      <td>5.0</td>\n",
       "      <td>3.6</td>\n",
       "      <td>1.4</td>\n",
       "      <td>0.2</td>\n",
       "      <td>2.550</td>\n",
       "      <td>summer</td>\n",
       "      <td>Iris-setosa</td>\n",
       "      <td>bad quality</td>\n",
       "    </tr>\n",
       "  </tbody>\n",
       "</table>\n",
       "</div>"
      ],
      "text/plain": [
       "   sepal_length  sepal_width  petal_length  petal_width  avg_width   season  \\\n",
       "0           5.1          3.5           1.4          0.2      2.550  summer    \n",
       "1           4.9          3.0           1.4          0.2      2.375   winter   \n",
       "2           4.7          3.2           1.3          0.2      2.350  summer    \n",
       "3           4.6          3.1           1.5          0.2      2.350   winter   \n",
       "4           5.0          3.6           1.4          0.2      2.550  summer    \n",
       "\n",
       "       species       quality  \n",
       "0  Iris-setosa  good quality  \n",
       "1  Iris-setosa   bad quality  \n",
       "2  Iris-setosa  good quality  \n",
       "3  Iris-setosa   bad quality  \n",
       "4  Iris-setosa   bad quality  "
      ]
     },
     "execution_count": 4,
     "metadata": {},
     "output_type": "execute_result"
    }
   ],
   "source": [
    "df.head()"
   ]
  },
  {
   "cell_type": "markdown",
   "id": "9363ba95-4da0-4fee-a1ed-1b917412efa9",
   "metadata": {},
   "source": [
    "# Tail()"
   ]
  },
  {
   "cell_type": "markdown",
   "id": "f5008309-5381-4112-a098-0b04cd7fa781",
   "metadata": {},
   "source": [
    "used to display the last few rows of the dataset"
   ]
  },
  {
   "cell_type": "code",
   "execution_count": 5,
   "id": "d3571142-24d9-4904-9b7b-fe737b6962df",
   "metadata": {},
   "outputs": [
    {
     "data": {
      "text/html": [
       "<div>\n",
       "<style scoped>\n",
       "    .dataframe tbody tr th:only-of-type {\n",
       "        vertical-align: middle;\n",
       "    }\n",
       "\n",
       "    .dataframe tbody tr th {\n",
       "        vertical-align: top;\n",
       "    }\n",
       "\n",
       "    .dataframe thead th {\n",
       "        text-align: right;\n",
       "    }\n",
       "</style>\n",
       "<table border=\"1\" class=\"dataframe\">\n",
       "  <thead>\n",
       "    <tr style=\"text-align: right;\">\n",
       "      <th></th>\n",
       "      <th>sepal_length</th>\n",
       "      <th>sepal_width</th>\n",
       "      <th>petal_length</th>\n",
       "      <th>petal_width</th>\n",
       "      <th>avg_width</th>\n",
       "      <th>season</th>\n",
       "      <th>species</th>\n",
       "      <th>quality</th>\n",
       "    </tr>\n",
       "  </thead>\n",
       "  <tbody>\n",
       "    <tr>\n",
       "      <th>146</th>\n",
       "      <td>6.3</td>\n",
       "      <td>2.5</td>\n",
       "      <td>5.0</td>\n",
       "      <td>1.9</td>\n",
       "      <td>3.925</td>\n",
       "      <td>summer</td>\n",
       "      <td>Iris-virginica</td>\n",
       "      <td>good quality</td>\n",
       "    </tr>\n",
       "    <tr>\n",
       "      <th>147</th>\n",
       "      <td>6.5</td>\n",
       "      <td>3.0</td>\n",
       "      <td>5.2</td>\n",
       "      <td>2.0</td>\n",
       "      <td>4.175</td>\n",
       "      <td>winter</td>\n",
       "      <td>Iris-virginica</td>\n",
       "      <td>good quality</td>\n",
       "    </tr>\n",
       "    <tr>\n",
       "      <th>148</th>\n",
       "      <td>6.2</td>\n",
       "      <td>3.4</td>\n",
       "      <td>5.4</td>\n",
       "      <td>2.3</td>\n",
       "      <td>4.325</td>\n",
       "      <td>summer</td>\n",
       "      <td>Iris-virginica</td>\n",
       "      <td>good quality</td>\n",
       "    </tr>\n",
       "    <tr>\n",
       "      <th>149</th>\n",
       "      <td>5.9</td>\n",
       "      <td>3.0</td>\n",
       "      <td>5.1</td>\n",
       "      <td>1.8</td>\n",
       "      <td>3.950</td>\n",
       "      <td>winter</td>\n",
       "      <td>Iris-virginica</td>\n",
       "      <td>good quality</td>\n",
       "    </tr>\n",
       "    <tr>\n",
       "      <th>150</th>\n",
       "      <td>NaN</td>\n",
       "      <td>NaN</td>\n",
       "      <td>NaN</td>\n",
       "      <td>0.0</td>\n",
       "      <td>NaN</td>\n",
       "      <td>NaN</td>\n",
       "      <td>NaN</td>\n",
       "      <td>NaN</td>\n",
       "    </tr>\n",
       "  </tbody>\n",
       "</table>\n",
       "</div>"
      ],
      "text/plain": [
       "     sepal_length  sepal_width  petal_length  petal_width  avg_width   season  \\\n",
       "146           6.3          2.5           5.0          1.9      3.925  summer    \n",
       "147           6.5          3.0           5.2          2.0      4.175   winter   \n",
       "148           6.2          3.4           5.4          2.3      4.325  summer    \n",
       "149           5.9          3.0           5.1          1.8      3.950   winter   \n",
       "150           NaN          NaN           NaN          0.0        NaN      NaN   \n",
       "\n",
       "            species       quality  \n",
       "146  Iris-virginica  good quality  \n",
       "147  Iris-virginica  good quality  \n",
       "148  Iris-virginica  good quality  \n",
       "149  Iris-virginica  good quality  \n",
       "150             NaN           NaN  "
      ]
     },
     "execution_count": 5,
     "metadata": {},
     "output_type": "execute_result"
    }
   ],
   "source": [
    "df.tail()"
   ]
  },
  {
   "cell_type": "markdown",
   "id": "07746d33-6f2d-4406-a882-ce61dd122b4e",
   "metadata": {},
   "source": [
    "# cleaning process"
   ]
  },
  {
   "cell_type": "markdown",
   "id": "e39dec10-bfa9-4eab-aa11-bbaeea4d671f",
   "metadata": {},
   "source": [
    "#### removing incorrect, corrupted, incorrectly formatted, duplicate, or incomplete data within a dataset.\n",
    "\n",
    "#### Fix structural errors,Filter unwanted outliers,Handle missing data."
   ]
  },
  {
   "cell_type": "markdown",
   "id": "8b031b4b-4c69-4da0-a883-500eb3484861",
   "metadata": {},
   "source": [
    "# Shape"
   ]
  },
  {
   "cell_type": "markdown",
   "id": "240528cc-3d3e-4600-b927-4c3d19f1f983",
   "metadata": {},
   "source": [
    "used to the number of rows and the number of columns in the dataset"
   ]
  },
  {
   "cell_type": "code",
   "execution_count": 6,
   "id": "aec5deac-b547-4a47-9f4b-361879a6ab57",
   "metadata": {},
   "outputs": [
    {
     "data": {
      "text/plain": [
       "(151, 8)"
      ]
     },
     "execution_count": 6,
     "metadata": {},
     "output_type": "execute_result"
    }
   ],
   "source": [
    "df.shape"
   ]
  },
  {
   "cell_type": "code",
   "execution_count": 7,
   "id": "54e77915-0108-47c6-8dcf-1fdcc2fc4f4d",
   "metadata": {},
   "outputs": [
    {
     "data": {
      "text/plain": [
       "Index(['sepal_length', 'sepal_width', 'petal_length', 'petal_width',\n",
       "       'avg_width', 'season', 'species', 'quality'],\n",
       "      dtype='object')"
      ]
     },
     "execution_count": 7,
     "metadata": {},
     "output_type": "execute_result"
    }
   ],
   "source": [
    "df.columns"
   ]
  },
  {
   "cell_type": "markdown",
   "id": "44e7f38a-a62f-47ab-8142-6b96f2bc9a54",
   "metadata": {},
   "source": [
    "# Dtypes"
   ]
  },
  {
   "cell_type": "markdown",
   "id": "de7bfd67-182a-4b55-bcfc-0180f8f5ee59",
   "metadata": {},
   "source": [
    "dtypes It shows the data-type of each column"
   ]
  },
  {
   "cell_type": "code",
   "execution_count": 8,
   "id": "680198dd-fa32-472e-843b-6c45df4e4098",
   "metadata": {},
   "outputs": [
    {
     "data": {
      "text/plain": [
       "sepal_length    float64\n",
       "sepal_width     float64\n",
       "petal_length    float64\n",
       "petal_width     float64\n",
       "avg_width       float64\n",
       "season           object\n",
       "species          object\n",
       "quality          object\n",
       "dtype: object"
      ]
     },
     "execution_count": 8,
     "metadata": {},
     "output_type": "execute_result"
    }
   ],
   "source": [
    "df.dtypes"
   ]
  },
  {
   "cell_type": "markdown",
   "id": "97bd59f0-55cc-4e85-9bd4-c6b7477fe5a4",
   "metadata": {},
   "source": [
    "#  Notnull().sum()"
   ]
  },
  {
   "cell_type": "markdown",
   "id": "0beb6632-99cc-4ca1-9e0f-5c6bf3c18606",
   "metadata": {},
   "source": [
    "counts the number of non-null (or non-missing) values in each column of the data frame"
   ]
  },
  {
   "cell_type": "code",
   "execution_count": 9,
   "id": "133bc497-15ec-440d-86f8-9185b4fe607a",
   "metadata": {},
   "outputs": [
    {
     "data": {
      "text/plain": [
       "sepal_length    150\n",
       "sepal_width     150\n",
       "petal_length    150\n",
       "petal_width     151\n",
       "avg_width       150\n",
       "season          150\n",
       "species         150\n",
       "quality         150\n",
       "dtype: int64"
      ]
     },
     "execution_count": 9,
     "metadata": {},
     "output_type": "execute_result"
    }
   ],
   "source": [
    "df.notnull().sum()"
   ]
  },
  {
   "cell_type": "markdown",
   "id": "c9e862d1-2df4-4bc7-ba2a-9ec4f0443499",
   "metadata": {},
   "source": [
    "# Isnull().sum()"
   ]
  },
  {
   "cell_type": "markdown",
   "id": "22425362-c6f0-46f6-a91c-35f69fae9d5c",
   "metadata": {},
   "source": [
    "Find out all the Null Values in the data."
   ]
  },
  {
   "cell_type": "code",
   "execution_count": 10,
   "id": "15f119f1-4641-44b4-845c-a53df7e086dd",
   "metadata": {},
   "outputs": [
    {
     "data": {
      "text/plain": [
       "sepal_length    1\n",
       "sepal_width     1\n",
       "petal_length    1\n",
       "petal_width     0\n",
       "avg_width       1\n",
       "season          1\n",
       "species         1\n",
       "quality         1\n",
       "dtype: int64"
      ]
     },
     "execution_count": 10,
     "metadata": {},
     "output_type": "execute_result"
    }
   ],
   "source": [
    "df.isnull().sum()"
   ]
  },
  {
   "cell_type": "markdown",
   "id": "ece85a69-0c10-49ca-b84a-761ad1135ab9",
   "metadata": {},
   "source": [
    "# Describe()"
   ]
  },
  {
   "cell_type": "markdown",
   "id": "0d4c3949-15b0-43a0-9545-53a95fc629e8",
   "metadata": {},
   "source": [
    "summary statistics of your dataset"
   ]
  },
  {
   "cell_type": "code",
   "execution_count": 11,
   "id": "e9e3a78a-9aee-4d97-a371-717e5b152450",
   "metadata": {},
   "outputs": [
    {
     "data": {
      "text/html": [
       "<div>\n",
       "<style scoped>\n",
       "    .dataframe tbody tr th:only-of-type {\n",
       "        vertical-align: middle;\n",
       "    }\n",
       "\n",
       "    .dataframe tbody tr th {\n",
       "        vertical-align: top;\n",
       "    }\n",
       "\n",
       "    .dataframe thead th {\n",
       "        text-align: right;\n",
       "    }\n",
       "</style>\n",
       "<table border=\"1\" class=\"dataframe\">\n",
       "  <thead>\n",
       "    <tr style=\"text-align: right;\">\n",
       "      <th></th>\n",
       "      <th>sepal_length</th>\n",
       "      <th>sepal_width</th>\n",
       "      <th>petal_length</th>\n",
       "      <th>petal_width</th>\n",
       "      <th>avg_width</th>\n",
       "    </tr>\n",
       "  </thead>\n",
       "  <tbody>\n",
       "    <tr>\n",
       "      <th>count</th>\n",
       "      <td>150.000000</td>\n",
       "      <td>150.000000</td>\n",
       "      <td>150.000000</td>\n",
       "      <td>151.000000</td>\n",
       "      <td>150.000000</td>\n",
       "    </tr>\n",
       "    <tr>\n",
       "      <th>mean</th>\n",
       "      <td>5.843333</td>\n",
       "      <td>3.054000</td>\n",
       "      <td>3.758667</td>\n",
       "      <td>1.190728</td>\n",
       "      <td>3.463667</td>\n",
       "    </tr>\n",
       "    <tr>\n",
       "      <th>std</th>\n",
       "      <td>0.828066</td>\n",
       "      <td>0.433594</td>\n",
       "      <td>1.764420</td>\n",
       "      <td>0.766842</td>\n",
       "      <td>0.782037</td>\n",
       "    </tr>\n",
       "    <tr>\n",
       "      <th>min</th>\n",
       "      <td>4.300000</td>\n",
       "      <td>2.000000</td>\n",
       "      <td>1.000000</td>\n",
       "      <td>0.000000</td>\n",
       "      <td>2.100000</td>\n",
       "    </tr>\n",
       "    <tr>\n",
       "      <th>25%</th>\n",
       "      <td>5.100000</td>\n",
       "      <td>2.800000</td>\n",
       "      <td>1.600000</td>\n",
       "      <td>0.300000</td>\n",
       "      <td>2.675000</td>\n",
       "    </tr>\n",
       "    <tr>\n",
       "      <th>50%</th>\n",
       "      <td>5.800000</td>\n",
       "      <td>3.000000</td>\n",
       "      <td>4.350000</td>\n",
       "      <td>1.300000</td>\n",
       "      <td>3.575000</td>\n",
       "    </tr>\n",
       "    <tr>\n",
       "      <th>75%</th>\n",
       "      <td>6.400000</td>\n",
       "      <td>3.300000</td>\n",
       "      <td>5.100000</td>\n",
       "      <td>1.800000</td>\n",
       "      <td>4.062500</td>\n",
       "    </tr>\n",
       "    <tr>\n",
       "      <th>max</th>\n",
       "      <td>7.900000</td>\n",
       "      <td>4.400000</td>\n",
       "      <td>6.900000</td>\n",
       "      <td>2.500000</td>\n",
       "      <td>5.100000</td>\n",
       "    </tr>\n",
       "  </tbody>\n",
       "</table>\n",
       "</div>"
      ],
      "text/plain": [
       "       sepal_length  sepal_width  petal_length  petal_width   avg_width\n",
       "count    150.000000   150.000000    150.000000   151.000000  150.000000\n",
       "mean       5.843333     3.054000      3.758667     1.190728    3.463667\n",
       "std        0.828066     0.433594      1.764420     0.766842    0.782037\n",
       "min        4.300000     2.000000      1.000000     0.000000    2.100000\n",
       "25%        5.100000     2.800000      1.600000     0.300000    2.675000\n",
       "50%        5.800000     3.000000      4.350000     1.300000    3.575000\n",
       "75%        6.400000     3.300000      5.100000     1.800000    4.062500\n",
       "max        7.900000     4.400000      6.900000     2.500000    5.100000"
      ]
     },
     "execution_count": 11,
     "metadata": {},
     "output_type": "execute_result"
    }
   ],
   "source": [
    "df.describe()"
   ]
  },
  {
   "cell_type": "markdown",
   "id": "f977cf5f-4d93-4056-8c6b-0e8b696511be",
   "metadata": {},
   "source": [
    "# Info()"
   ]
  },
  {
   "cell_type": "markdown",
   "id": "f7c29910-c399-47b4-95db-669d5829bf06",
   "metadata": {},
   "source": [
    "info() Provides basic information about the dataframe"
   ]
  },
  {
   "cell_type": "code",
   "execution_count": 12,
   "id": "3453a318-87d1-4f86-abf1-9d87933109a7",
   "metadata": {},
   "outputs": [
    {
     "name": "stdout",
     "output_type": "stream",
     "text": [
      "<class 'pandas.core.frame.DataFrame'>\n",
      "RangeIndex: 151 entries, 0 to 150\n",
      "Data columns (total 8 columns):\n",
      " #   Column        Non-Null Count  Dtype  \n",
      "---  ------        --------------  -----  \n",
      " 0   sepal_length  150 non-null    float64\n",
      " 1   sepal_width   150 non-null    float64\n",
      " 2   petal_length  150 non-null    float64\n",
      " 3   petal_width   151 non-null    float64\n",
      " 4   avg_width     150 non-null    float64\n",
      " 5   season        150 non-null    object \n",
      " 6   species       150 non-null    object \n",
      " 7   quality       150 non-null    object \n",
      "dtypes: float64(5), object(3)\n",
      "memory usage: 9.6+ KB\n"
     ]
    }
   ],
   "source": [
    "df.info()"
   ]
  },
  {
   "cell_type": "markdown",
   "id": "c19b4e4c-dfd6-4ffa-a0ce-7eb824725237",
   "metadata": {},
   "source": [
    "# count()"
   ]
  },
  {
   "cell_type": "markdown",
   "id": "8c45fd22-6e1b-46be-b77b-dcb97743e3cd",
   "metadata": {},
   "source": [
    "count It shows the total no.of non-null in each column.It can be applied on a single column as well as on whole dataframe"
   ]
  },
  {
   "cell_type": "code",
   "execution_count": 13,
   "id": "6c19c253-46e0-48cb-8f9b-df50c07c313d",
   "metadata": {},
   "outputs": [
    {
     "data": {
      "text/plain": [
       "sepal_length    150\n",
       "sepal_width     150\n",
       "petal_length    150\n",
       "petal_width     151\n",
       "avg_width       150\n",
       "season          150\n",
       "species         150\n",
       "quality         150\n",
       "dtype: int64"
      ]
     },
     "execution_count": 13,
     "metadata": {},
     "output_type": "execute_result"
    }
   ],
   "source": [
    "df.count()"
   ]
  },
  {
   "cell_type": "markdown",
   "id": "a1b7e5f1-de90-44ac-aee5-f50b92e21b2c",
   "metadata": {},
   "source": [
    "# Nunique()"
   ]
  },
  {
   "cell_type": "markdown",
   "id": "f75a3379-9fee-4cb5-9743-df4f7322eb7b",
   "metadata": {},
   "source": [
    "unique() In a column.It shows all the unique values.It can be applied on a single column only,not on the whole dataframe"
   ]
  },
  {
   "cell_type": "code",
   "execution_count": 14,
   "id": "8b67b5fa-7503-43c1-b7e5-7cb5adbaf0af",
   "metadata": {},
   "outputs": [
    {
     "data": {
      "text/plain": [
       "sepal_length    35\n",
       "sepal_width     23\n",
       "petal_length    43\n",
       "petal_width     23\n",
       "avg_width       83\n",
       "season           2\n",
       "species          3\n",
       "quality          2\n",
       "dtype: int64"
      ]
     },
     "execution_count": 14,
     "metadata": {},
     "output_type": "execute_result"
    }
   ],
   "source": [
    "df.nunique()"
   ]
  },
  {
   "cell_type": "markdown",
   "id": "9024ed64-b679-4857-81d0-65b6b6b0d1b5",
   "metadata": {},
   "source": [
    "# Unique()"
   ]
  },
  {
   "cell_type": "markdown",
   "id": "5aae4619-7b3e-474a-9960-8fd4d96a31a5",
   "metadata": {},
   "source": [
    "unique() In a column.It shows all the unique values.It can be applied on a single column only,not on the whole dataframe"
   ]
  },
  {
   "cell_type": "code",
   "execution_count": 15,
   "id": "54177e8e-3003-4fed-b558-9f28d72ccd60",
   "metadata": {},
   "outputs": [
    {
     "data": {
      "text/plain": [
       "array([5.1, 4.9, 4.7, 4.6, 5. , 5.4, 4.4, 4.8, 4.3, 5.8, 5.7, 5.2, 5.5,\n",
       "       4.5, 5.3, 7. , 6.4, 6.9, 6.5, 6.3, 6.6, 5.9, 6. , 6.1, 5.6, 6.7,\n",
       "       6.2, 6.8, 7.1, 7.6, 7.3, 7.2, 7.7, 7.4, 7.9, nan])"
      ]
     },
     "execution_count": 15,
     "metadata": {},
     "output_type": "execute_result"
    }
   ],
   "source": [
    "df['sepal_length'].unique()"
   ]
  },
  {
   "cell_type": "markdown",
   "id": "75be98e7-45dd-4f7e-bb73-85d93d2c6ce2",
   "metadata": {},
   "source": [
    "# Using groupby"
   ]
  },
  {
   "cell_type": "markdown",
   "id": "5daa71cf-d041-42e7-86e2-112bf1ae15a8",
   "metadata": {},
   "source": [
    "used to split the data into groups based on some criteria, apply a function to each group independently, and then combine the results into a data structure."
   ]
  },
  {
   "cell_type": "code",
   "execution_count": 16,
   "id": "3dfb1e19-83de-47eb-af05-4e6725bb7beb",
   "metadata": {},
   "outputs": [
    {
     "data": {
      "text/plain": [
       "species\n",
       "Iris-setosa        50\n",
       "Iris-versicolor    50\n",
       "Iris-virginica     50\n",
       "Name: species, dtype: int64"
      ]
     },
     "execution_count": 16,
     "metadata": {},
     "output_type": "execute_result"
    }
   ],
   "source": [
    "df.groupby(\"species\").species.count()"
   ]
  },
  {
   "cell_type": "code",
   "execution_count": 17,
   "id": "b58f4285-90fc-4fca-bb31-bcf792a44ff1",
   "metadata": {},
   "outputs": [
    {
     "name": "stdout",
     "output_type": "stream",
     "text": [
      "mean    5.843333\n",
      "max     7.900000\n",
      "min     4.300000\n",
      "Name: sepal_length, dtype: float64\n"
     ]
    }
   ],
   "source": [
    "summary_stats = df['sepal_length'].agg(['mean', 'max', 'min'])\n",
    "\n",
    "# Printing the summary statistics\n",
    "print(summary_stats)"
   ]
  },
  {
   "cell_type": "code",
   "execution_count": 18,
   "id": "b1810a70-1459-447d-b1db-9f87aae1d2c4",
   "metadata": {},
   "outputs": [
    {
     "data": {
      "text/plain": [
       "RangeIndex(start=0, stop=151, step=1)"
      ]
     },
     "execution_count": 18,
     "metadata": {},
     "output_type": "execute_result"
    }
   ],
   "source": [
    "df.index"
   ]
  },
  {
   "cell_type": "markdown",
   "id": "f605ef60-f530-410b-90a4-6f08d70cd27f",
   "metadata": {},
   "source": [
    "# Find the outliers"
   ]
  },
  {
   "cell_type": "markdown",
   "id": "47907f16-c1e4-4d99-afd3-818054d97c14",
   "metadata": {},
   "source": [
    "#### To detect outliers using boxplot"
   ]
  },
  {
   "cell_type": "markdown",
   "id": "ec6f1b8e-e31e-428e-84d8-d0e39e41c17d",
   "metadata": {},
   "source": [
    "##### The box plot is a useful graphical display for describing the behavior of the data in the middle as well as at the ends of the distributions. The box plot uses the median and the lower and upper quartiles (defined as the 25th and 75th percentiles). If the lower quartile is Q1 and the upper quartile is Q3, then the difference (Q3 - Q1) is called the interquartile range or IQ."
   ]
  },
  {
   "cell_type": "markdown",
   "id": "3346f7f4-9560-4861-8f64-cc8343357ad0",
   "metadata": {},
   "source": [
    "1)lower inner fence=Q1-1.5IQ 2)upper inner fence=Q3+1.5IQ 3)lower outer fence=Q1-3IQ 4)upper outer fence=Q3+3IQ"
   ]
  },
  {
   "cell_type": "code",
   "execution_count": 19,
   "id": "5337b6fe-b815-4c58-8245-73882cf5e237",
   "metadata": {},
   "outputs": [],
   "source": [
    "df_to_plot=[df['sepal_length'],df['sepal_width'],df['petal_length'],df['petal_width']]"
   ]
  },
  {
   "cell_type": "code",
   "execution_count": 20,
   "id": "cf5965c9-95d4-4a7f-88f6-9c9662d72131",
   "metadata": {},
   "outputs": [
    {
     "data": {
      "text/plain": [
       "{'whiskers': [<matplotlib.lines.Line2D at 0x1f1ca776fd0>,\n",
       "  <matplotlib.lines.Line2D at 0x1f1ca777d50>,\n",
       "  <matplotlib.lines.Line2D at 0x1f1ca78c450>,\n",
       "  <matplotlib.lines.Line2D at 0x1f1ca78cfd0>,\n",
       "  <matplotlib.lines.Line2D at 0x1f1ca7994d0>,\n",
       "  <matplotlib.lines.Line2D at 0x1f1ca79a090>,\n",
       "  <matplotlib.lines.Line2D at 0x1f1ca7aa590>,\n",
       "  <matplotlib.lines.Line2D at 0x1f1ca7ab150>],\n",
       " 'caps': [<matplotlib.lines.Line2D at 0x1f1ca7849d0>,\n",
       "  <matplotlib.lines.Line2D at 0x1f1ca785650>,\n",
       "  <matplotlib.lines.Line2D at 0x1f1ca78db50>,\n",
       "  <matplotlib.lines.Line2D at 0x1f1ca78e690>,\n",
       "  <matplotlib.lines.Line2D at 0x1f1ca79abd0>,\n",
       "  <matplotlib.lines.Line2D at 0x1f1ca79b810>,\n",
       "  <matplotlib.lines.Line2D at 0x1f1ca7abd50>,\n",
       "  <matplotlib.lines.Line2D at 0x1f1ca7b8850>],\n",
       " 'boxes': [<matplotlib.lines.Line2D at 0x1f1ca7761d0>,\n",
       "  <matplotlib.lines.Line2D at 0x1f1ca787810>,\n",
       "  <matplotlib.lines.Line2D at 0x1f1ca7988d0>,\n",
       "  <matplotlib.lines.Line2D at 0x1f1ca7a9a50>],\n",
       " 'medians': [<matplotlib.lines.Line2D at 0x1f1ca786110>,\n",
       "  <matplotlib.lines.Line2D at 0x1f1ca78f190>,\n",
       "  <matplotlib.lines.Line2D at 0x1f1ca7a8350>,\n",
       "  <matplotlib.lines.Line2D at 0x1f1ca7b92d0>],\n",
       " 'fliers': [<matplotlib.lines.Line2D at 0x1f1ca786c50>,\n",
       "  <matplotlib.lines.Line2D at 0x1f1ca78fd10>,\n",
       "  <matplotlib.lines.Line2D at 0x1f1ca7a8ed0>,\n",
       "  <matplotlib.lines.Line2D at 0x1f1ca7b9e50>],\n",
       " 'means': []}"
      ]
     },
     "execution_count": 20,
     "metadata": {},
     "output_type": "execute_result"
    },
    {
     "data": {
      "image/png": "[encoded data removed]",
      "text/plain": [
       "<Figure size 640x480 with 1 Axes>"
      ]
     },
     "metadata": {},
     "output_type": "display_data"
    }
   ],
   "source": [
    "plt.boxplot(df_to_plot,labels=['sepal_length','sepal_width','petal_length','petal_width'],flierprops=dict(markerfacecolor='red'))"
   ]
  },
  {
   "cell_type": "markdown",
   "id": "b51154e0-6592-46fb-a4f9-346a9091a77c",
   "metadata": {},
   "source": [
    "# Check the normality in dataset"
   ]
  },
  {
   "cell_type": "markdown",
   "id": "d631511d-f740-4e3a-96e6-e1f62e1dd7de",
   "metadata": {},
   "source": [
    "#####  Normal distribution, also known as Gaussian distribution, is the most important statistical probability distribution for independent random variables.Most researchers will recognize it as the familiar bell-shaped curve present in statistical reports. Normal distributions are appropriate for continuous variables. It is a probability distribution that is symmetric about the mean"
   ]
  },
  {
   "cell_type": "markdown",
   "id": "1c06cc53-74f3-4ad3-9b31-4eeb3fe6d1b5",
   "metadata": {},
   "source": [
    "\n",
    "What is the mean,median and Standard deviation'sepal_length'?"
   ]
  },
  {
   "cell_type": "code",
   "execution_count": 21,
   "id": "fa199ca9-d86d-4251-a3ef-3584225b2785",
   "metadata": {},
   "outputs": [
    {
     "data": {
      "text/plain": [
       "5.843333333333334"
      ]
     },
     "execution_count": 21,
     "metadata": {},
     "output_type": "execute_result"
    }
   ],
   "source": [
    "df['sepal_length'].mean()"
   ]
  },
  {
   "cell_type": "code",
   "execution_count": 22,
   "id": "77a32df4-8fcb-40d2-8ccf-3cb58613aada",
   "metadata": {},
   "outputs": [
    {
     "data": {
      "text/plain": [
       "5.8"
      ]
     },
     "execution_count": 22,
     "metadata": {},
     "output_type": "execute_result"
    }
   ],
   "source": [
    "df['sepal_length'].median()"
   ]
  },
  {
   "cell_type": "code",
   "execution_count": 23,
   "id": "a24aed12-cd6c-45c3-a9f1-12aa94e43ee7",
   "metadata": {},
   "outputs": [
    {
     "data": {
      "text/plain": [
       "0.828066127977863"
      ]
     },
     "execution_count": 23,
     "metadata": {},
     "output_type": "execute_result"
    }
   ],
   "source": [
    "df['sepal_length'].std()"
   ]
  },
  {
   "cell_type": "markdown",
   "id": "54548ceb-1364-4859-8153-29d6ce577257",
   "metadata": {},
   "source": [
    "What is the mean,median and Standard deviation'sepal_width'?"
   ]
  },
  {
   "cell_type": "code",
   "execution_count": 24,
   "id": "607b8df2-8776-46e3-80da-b755def68546",
   "metadata": {},
   "outputs": [
    {
     "data": {
      "text/plain": [
       "3.0540000000000003"
      ]
     },
     "execution_count": 24,
     "metadata": {},
     "output_type": "execute_result"
    }
   ],
   "source": [
    "df['sepal_width'].mean()"
   ]
  },
  {
   "cell_type": "code",
   "execution_count": 25,
   "id": "6399bc12-13bc-4a92-8550-ab076b7c76f5",
   "metadata": {},
   "outputs": [
    {
     "data": {
      "text/plain": [
       "3.0"
      ]
     },
     "execution_count": 25,
     "metadata": {},
     "output_type": "execute_result"
    }
   ],
   "source": [
    "df['sepal_width'].median()"
   ]
  },
  {
   "cell_type": "code",
   "execution_count": 26,
   "id": "b92ff2dc-5ae1-4c20-b6d2-6274d1f7f4f1",
   "metadata": {},
   "outputs": [
    {
     "data": {
      "text/plain": [
       "0.4335943113621737"
      ]
     },
     "execution_count": 26,
     "metadata": {},
     "output_type": "execute_result"
    }
   ],
   "source": [
    "df['sepal_width'].std()"
   ]
  },
  {
   "cell_type": "markdown",
   "id": "b7695a46-cacd-47f2-b61a-ad4f26f47e44",
   "metadata": {},
   "source": [
    "What is the mean,median and Standard deviation 'petal_length'?"
   ]
  },
  {
   "cell_type": "code",
   "execution_count": 27,
   "id": "b476953f-b8b3-4480-ac67-acd7189f5fa9",
   "metadata": {},
   "outputs": [
    {
     "data": {
      "text/plain": [
       "3.758666666666666"
      ]
     },
     "execution_count": 27,
     "metadata": {},
     "output_type": "execute_result"
    }
   ],
   "source": [
    "df['petal_length'].mean()"
   ]
  },
  {
   "cell_type": "code",
   "execution_count": 28,
   "id": "ee572b94-1445-4b8e-a4a8-476262ca406b",
   "metadata": {},
   "outputs": [
    {
     "data": {
      "text/plain": [
       "4.35"
      ]
     },
     "execution_count": 28,
     "metadata": {},
     "output_type": "execute_result"
    }
   ],
   "source": [
    "df['petal_length'].median()"
   ]
  },
  {
   "cell_type": "code",
   "execution_count": 29,
   "id": "b9832d9d-cb79-4c0f-af5d-0fc134f6ba08",
   "metadata": {},
   "outputs": [
    {
     "data": {
      "text/plain": [
       "1.7644204199522626"
      ]
     },
     "execution_count": 29,
     "metadata": {},
     "output_type": "execute_result"
    }
   ],
   "source": [
    "df['petal_length'].std()"
   ]
  },
  {
   "cell_type": "markdown",
   "id": "dd249239-2666-4f86-8b0e-da2c6e1762bf",
   "metadata": {},
   "source": [
    "What is the mean,median and Standard deviation 'petal_width'?"
   ]
  },
  {
   "cell_type": "code",
   "execution_count": 30,
   "id": "9f684466-0bf5-47a4-8581-4df1e0cdb653",
   "metadata": {},
   "outputs": [
    {
     "data": {
      "text/plain": [
       "1.190728476821192"
      ]
     },
     "execution_count": 30,
     "metadata": {},
     "output_type": "execute_result"
    }
   ],
   "source": [
    "df['petal_width'].mean()"
   ]
  },
  {
   "cell_type": "code",
   "execution_count": 31,
   "id": "5074c840-c4c7-4858-92c6-b4bea315d52b",
   "metadata": {},
   "outputs": [
    {
     "data": {
      "text/plain": [
       "1.3"
      ]
     },
     "execution_count": 31,
     "metadata": {},
     "output_type": "execute_result"
    }
   ],
   "source": [
    "df['petal_width'].median()"
   ]
  },
  {
   "cell_type": "code",
   "execution_count": 32,
   "id": "f1e3a9b7-734a-417f-919a-da7ced4d65f6",
   "metadata": {},
   "outputs": [
    {
     "data": {
      "text/plain": [
       "0.7668420952953731"
      ]
     },
     "execution_count": 32,
     "metadata": {},
     "output_type": "execute_result"
    }
   ],
   "source": [
    "df['petal_width'].std()"
   ]
  },
  {
   "cell_type": "markdown",
   "id": "e495d91a-8f59-41aa-8bc5-717baa10da9d",
   "metadata": {},
   "source": [
    "# Graphical methods to check normality"
   ]
  },
  {
   "cell_type": "markdown",
   "id": "2fb1a9e7-2534-497f-8944-c921cb914e22",
   "metadata": {},
   "source": [
    "##### An informal approach to testing normality is to compare a histogram of the sample data to a normal probability curve. The empirical distribution of the data (the histogram) should be bell-shaped and resemble the normal distribution. A graphical tool for assessing normality is the normal probability plot, a quantile-quantile plot (QQ plot) of the standardized data against the standard normal distribution. Here the correlation between the sample data and normal quantiles (a measure of the goodness of fit) measures how well the data are modeled by a normal distribution"
   ]
  },
  {
   "cell_type": "code",
   "execution_count": 33,
   "id": "852aedeb-d58b-4462-b114-3143ad3b7a69",
   "metadata": {},
   "outputs": [
    {
     "data": {
      "text/plain": [
       "array([[<Axes: title={'center': 'sepal_length'}>,\n",
       "        <Axes: title={'center': 'sepal_width'}>],\n",
       "       [<Axes: title={'center': 'petal_length'}>,\n",
       "        <Axes: title={'center': 'petal_width'}>],\n",
       "       [<Axes: title={'center': 'avg_width'}>, <Axes: >]], dtype=object)"
      ]
     },
     "execution_count": 33,
     "metadata": {},
     "output_type": "execute_result"
    },
    {
     "data": {
      "image/png": "[encoded data removed]",
      "text/plain": [
       "<Figure size 640x480 with 6 Axes>"
      ]
     },
     "metadata": {},
     "output_type": "display_data"
    }
   ],
   "source": [
    "df.hist()"
   ]
  },
  {
   "cell_type": "code",
   "execution_count": 34,
   "id": "0569b4b0-63ac-4af1-8d16-dbbdef471dca",
   "metadata": {},
   "outputs": [
    {
     "data": {
      "image/png": "[encoded data removed]",
      "text/plain": [
       "<Figure size 500x500 with 1 Axes>"
      ]
     },
     "metadata": {},
     "output_type": "display_data"
    }
   ],
   "source": [
    "n=df['sepal_length']\n",
    "n\n",
    "sns.displot(x=n,kde=True)\n",
    "plt.show()"
   ]
  },
  {
   "cell_type": "markdown",
   "id": "a073710c-7acf-4eeb-9b2e-9e75699cff3b",
   "metadata": {},
   "source": [
    "sepal_length is Normal distribution"
   ]
  },
  {
   "cell_type": "code",
   "execution_count": 35,
   "id": "16063370-71c0-495c-b669-5953342ab0fa",
   "metadata": {},
   "outputs": [
    {
     "data": {
      "image/png": "[encoded data removed]",
      "text/plain": [
       "<Figure size 500x500 with 1 Axes>"
      ]
     },
     "metadata": {},
     "output_type": "display_data"
    }
   ],
   "source": [
    "l=df['sepal_width']\n",
    "l\n",
    "sns.displot(x=l,kde=True)\n",
    "plt.show()"
   ]
  },
  {
   "cell_type": "markdown",
   "id": "325b06c7-7d04-4d7a-a1ad-3dbb34623587",
   "metadata": {},
   "source": [
    "sepal_width is Normal distribution"
   ]
  },
  {
   "cell_type": "code",
   "execution_count": 36,
   "id": "3841fdc5-a437-4339-80e8-871e38874e4d",
   "metadata": {},
   "outputs": [
    {
     "data": {
      "image/png": "[encoded data removed]",
      "text/plain": [
       "<Figure size 500x500 with 1 Axes>"
      ]
     },
     "metadata": {},
     "output_type": "display_data"
    }
   ],
   "source": [
    "n=df['petal_length']\n",
    "n\n",
    "sns.displot(x=n,kde=True)\n",
    "plt.show()"
   ]
  },
  {
   "cell_type": "markdown",
   "id": "fd1d59f2-62b4-4432-9317-2a5a622369af",
   "metadata": {},
   "source": [
    "petal_length is Normal distribution"
   ]
  },
  {
   "cell_type": "code",
   "execution_count": 37,
   "id": "dfb2ffd1-0460-422e-b201-4a10ecc2f2d0",
   "metadata": {},
   "outputs": [
    {
     "data": {
      "image/png": "[encoded data removed]",
      "text/plain": [
       "<Figure size 500x500 with 1 Axes>"
      ]
     },
     "metadata": {},
     "output_type": "display_data"
    }
   ],
   "source": [
    "n=df['petal_width']\n",
    "n\n",
    "sns.displot(x=n,kde=True)\n",
    "plt.show()"
   ]
  },
  {
   "cell_type": "markdown",
   "id": "80441011-912d-472c-af8f-3e335a736a7d",
   "metadata": {},
   "source": [
    "petal_width is Normal distribution"
   ]
  },
  {
   "cell_type": "markdown",
   "id": "8b6cbf10-584b-4076-89e7-1fcf80898e9f",
   "metadata": {},
   "source": [
    "# Correlations "
   ]
  },
  {
   "cell_type": "markdown",
   "id": "55ca289c-3dd9-4ffd-bc5f-1495ad83e99a",
   "metadata": {},
   "source": [
    "Correlation only measures the strength and direction of the linear relationship between variables."
   ]
  },
  {
   "cell_type": "code",
   "execution_count": 38,
   "id": "cf1b326f-07ae-477d-9ff9-ba32898f5036",
   "metadata": {},
   "outputs": [
    {
     "data": {
      "text/html": [
       "<div>\n",
       "<style scoped>\n",
       "    .dataframe tbody tr th:only-of-type {\n",
       "        vertical-align: middle;\n",
       "    }\n",
       "\n",
       "    .dataframe tbody tr th {\n",
       "        vertical-align: top;\n",
       "    }\n",
       "\n",
       "    .dataframe thead th {\n",
       "        text-align: right;\n",
       "    }\n",
       "</style>\n",
       "<table border=\"1\" class=\"dataframe\">\n",
       "  <thead>\n",
       "    <tr style=\"text-align: right;\">\n",
       "      <th></th>\n",
       "      <th>sepal_length</th>\n",
       "      <th>sepal_width</th>\n",
       "      <th>petal_length</th>\n",
       "      <th>petal_width</th>\n",
       "    </tr>\n",
       "  </thead>\n",
       "  <tbody>\n",
       "    <tr>\n",
       "      <th>sepal_length</th>\n",
       "      <td>1.000000</td>\n",
       "      <td>-0.109369</td>\n",
       "      <td>0.871754</td>\n",
       "      <td>0.817954</td>\n",
       "    </tr>\n",
       "    <tr>\n",
       "      <th>sepal_width</th>\n",
       "      <td>-0.109369</td>\n",
       "      <td>1.000000</td>\n",
       "      <td>-0.420516</td>\n",
       "      <td>-0.356544</td>\n",
       "    </tr>\n",
       "    <tr>\n",
       "      <th>petal_length</th>\n",
       "      <td>0.871754</td>\n",
       "      <td>-0.420516</td>\n",
       "      <td>1.000000</td>\n",
       "      <td>0.962757</td>\n",
       "    </tr>\n",
       "    <tr>\n",
       "      <th>petal_width</th>\n",
       "      <td>0.817954</td>\n",
       "      <td>-0.356544</td>\n",
       "      <td>0.962757</td>\n",
       "      <td>1.000000</td>\n",
       "    </tr>\n",
       "  </tbody>\n",
       "</table>\n",
       "</div>"
      ],
      "text/plain": [
       "              sepal_length  sepal_width  petal_length  petal_width\n",
       "sepal_length      1.000000    -0.109369      0.871754     0.817954\n",
       "sepal_width      -0.109369     1.000000     -0.420516    -0.356544\n",
       "petal_length      0.871754    -0.420516      1.000000     0.962757\n",
       "petal_width       0.817954    -0.356544      0.962757     1.000000"
      ]
     },
     "execution_count": 38,
     "metadata": {},
     "output_type": "execute_result"
    }
   ],
   "source": [
    "scores = df[['sepal_length', 'sepal_width', 'petal_length','petal_width']].corr()\n",
    "scores"
   ]
  },
  {
   "cell_type": "markdown",
   "id": "c67b96da-bf04-40e5-9dc9-602bcb4a4491",
   "metadata": {},
   "source": [
    "This script will display a heatmap showing the correlations between 'sepal_length', 'sepal_width', 'petal_length' and 'petal_width'. Positive correlations are indicated by lighter colors, while negative correlations are indicated by darker colors. The intensity of the color represents the strength of the correlation."
   ]
  },
  {
   "cell_type": "code",
   "execution_count": 39,
   "id": "e964590a-bb72-46a2-8c60-d6e645da7173",
   "metadata": {},
   "outputs": [
    {
     "data": {
      "image/png": "[encoded data removed]",
      "text/plain": [
       "<Figure size 1000x800 with 2 Axes>"
      ]
     },
     "metadata": {},
     "output_type": "display_data"
    }
   ],
   "source": [
    "def plotCorrelationMatrix(data, figsize=(10, 8)):\n",
    "    '''\n",
    "    Plot correlation matrix for the given DataFrame data.\n",
    "    \n",
    "    Parameters:\n",
    "        data (DataFrame): Input data.\n",
    "        figsize (tuple): Figure size. Default is (10, 8).\n",
    "    '''\n",
    "    plt.figure(figsize=figsize)\n",
    "    sns.heatmap(data, annot=True, cmap='coolwarm', fmt=\".2f\", linewidths=0.5)\n",
    "    plt.title('Correlation Matrix')\n",
    "    plt.show()\n",
    "# Selecting the columns of interest\n",
    "scores = df[['sepal_length', 'sepal_width', 'petal_length','petal_width']]\n",
    "\n",
    "# Computing the correlation matrix\n",
    "correlation_matrix = scores.corr()\n",
    "\n",
    "# Plotting the correlation matrix\n",
    "plotCorrelationMatrix(correlation_matrix)\t"
   ]
  },
  {
   "cell_type": "markdown",
   "id": "279df42c-90d1-45d5-a054-b2145290c420",
   "metadata": {},
   "source": [
    "# Sample"
   ]
  },
  {
   "cell_type": "markdown",
   "id": "42853963-c18b-4e9b-b177-1834c294afca",
   "metadata": {},
   "source": [
    "The sample is select by simple random sampling method for t test"
   ]
  },
  {
   "cell_type": "code",
   "execution_count": 40,
   "id": "a763b7f2-efe0-4334-a8f1-34b19201e006",
   "metadata": {},
   "outputs": [
    {
     "data": {
      "text/html": [
       "<div>\n",
       "<style scoped>\n",
       "    .dataframe tbody tr th:only-of-type {\n",
       "        vertical-align: middle;\n",
       "    }\n",
       "\n",
       "    .dataframe tbody tr th {\n",
       "        vertical-align: top;\n",
       "    }\n",
       "\n",
       "    .dataframe thead th {\n",
       "        text-align: right;\n",
       "    }\n",
       "</style>\n",
       "<table border=\"1\" class=\"dataframe\">\n",
       "  <thead>\n",
       "    <tr style=\"text-align: right;\">\n",
       "      <th></th>\n",
       "      <th>sepal_length</th>\n",
       "      <th>sepal_width</th>\n",
       "      <th>petal_length</th>\n",
       "      <th>petal_width</th>\n",
       "      <th>avg_width</th>\n",
       "      <th>season</th>\n",
       "      <th>species</th>\n",
       "      <th>quality</th>\n",
       "    </tr>\n",
       "  </thead>\n",
       "  <tbody>\n",
       "    <tr>\n",
       "      <th>16</th>\n",
       "      <td>5.4</td>\n",
       "      <td>3.9</td>\n",
       "      <td>1.3</td>\n",
       "      <td>0.4</td>\n",
       "      <td>2.750</td>\n",
       "      <td>summer</td>\n",
       "      <td>Iris-setosa</td>\n",
       "      <td>good quality</td>\n",
       "    </tr>\n",
       "    <tr>\n",
       "      <th>135</th>\n",
       "      <td>7.7</td>\n",
       "      <td>3.0</td>\n",
       "      <td>6.1</td>\n",
       "      <td>2.3</td>\n",
       "      <td>4.775</td>\n",
       "      <td>winter</td>\n",
       "      <td>Iris-virginica</td>\n",
       "      <td>good quality</td>\n",
       "    </tr>\n",
       "    <tr>\n",
       "      <th>89</th>\n",
       "      <td>5.5</td>\n",
       "      <td>2.5</td>\n",
       "      <td>4.0</td>\n",
       "      <td>1.3</td>\n",
       "      <td>3.325</td>\n",
       "      <td>winter</td>\n",
       "      <td>Iris-versicolor</td>\n",
       "      <td>bad quality</td>\n",
       "    </tr>\n",
       "    <tr>\n",
       "      <th>101</th>\n",
       "      <td>5.8</td>\n",
       "      <td>2.7</td>\n",
       "      <td>5.1</td>\n",
       "      <td>1.9</td>\n",
       "      <td>3.875</td>\n",
       "      <td>winter</td>\n",
       "      <td>Iris-virginica</td>\n",
       "      <td>bad quality</td>\n",
       "    </tr>\n",
       "    <tr>\n",
       "      <th>60</th>\n",
       "      <td>5.0</td>\n",
       "      <td>2.0</td>\n",
       "      <td>3.5</td>\n",
       "      <td>1.0</td>\n",
       "      <td>2.875</td>\n",
       "      <td>summer</td>\n",
       "      <td>Iris-versicolor</td>\n",
       "      <td>good quality</td>\n",
       "    </tr>\n",
       "    <tr>\n",
       "      <th>120</th>\n",
       "      <td>6.9</td>\n",
       "      <td>3.2</td>\n",
       "      <td>5.7</td>\n",
       "      <td>2.3</td>\n",
       "      <td>4.525</td>\n",
       "      <td>summer</td>\n",
       "      <td>Iris-virginica</td>\n",
       "      <td>good quality</td>\n",
       "    </tr>\n",
       "    <tr>\n",
       "      <th>41</th>\n",
       "      <td>4.5</td>\n",
       "      <td>2.3</td>\n",
       "      <td>1.3</td>\n",
       "      <td>0.3</td>\n",
       "      <td>2.100</td>\n",
       "      <td>winter</td>\n",
       "      <td>Iris-setosa</td>\n",
       "      <td>good quality</td>\n",
       "    </tr>\n",
       "    <tr>\n",
       "      <th>136</th>\n",
       "      <td>6.3</td>\n",
       "      <td>3.4</td>\n",
       "      <td>5.6</td>\n",
       "      <td>2.4</td>\n",
       "      <td>4.425</td>\n",
       "      <td>summer</td>\n",
       "      <td>Iris-virginica</td>\n",
       "      <td>good quality</td>\n",
       "    </tr>\n",
       "    <tr>\n",
       "      <th>12</th>\n",
       "      <td>4.8</td>\n",
       "      <td>3.0</td>\n",
       "      <td>1.4</td>\n",
       "      <td>0.1</td>\n",
       "      <td>2.325</td>\n",
       "      <td>summer</td>\n",
       "      <td>Iris-setosa</td>\n",
       "      <td>bad quality</td>\n",
       "    </tr>\n",
       "    <tr>\n",
       "      <th>43</th>\n",
       "      <td>5.0</td>\n",
       "      <td>3.5</td>\n",
       "      <td>1.6</td>\n",
       "      <td>0.6</td>\n",
       "      <td>2.675</td>\n",
       "      <td>winter</td>\n",
       "      <td>Iris-setosa</td>\n",
       "      <td>good quality</td>\n",
       "    </tr>\n",
       "    <tr>\n",
       "      <th>94</th>\n",
       "      <td>5.6</td>\n",
       "      <td>2.7</td>\n",
       "      <td>4.2</td>\n",
       "      <td>1.3</td>\n",
       "      <td>3.450</td>\n",
       "      <td>summer</td>\n",
       "      <td>Iris-versicolor</td>\n",
       "      <td>bad quality</td>\n",
       "    </tr>\n",
       "    <tr>\n",
       "      <th>148</th>\n",
       "      <td>6.2</td>\n",
       "      <td>3.4</td>\n",
       "      <td>5.4</td>\n",
       "      <td>2.3</td>\n",
       "      <td>4.325</td>\n",
       "      <td>summer</td>\n",
       "      <td>Iris-virginica</td>\n",
       "      <td>good quality</td>\n",
       "    </tr>\n",
       "    <tr>\n",
       "      <th>49</th>\n",
       "      <td>5.0</td>\n",
       "      <td>3.3</td>\n",
       "      <td>1.4</td>\n",
       "      <td>0.2</td>\n",
       "      <td>2.475</td>\n",
       "      <td>winter</td>\n",
       "      <td>Iris-setosa</td>\n",
       "      <td>good quality</td>\n",
       "    </tr>\n",
       "    <tr>\n",
       "      <th>23</th>\n",
       "      <td>5.1</td>\n",
       "      <td>3.3</td>\n",
       "      <td>1.7</td>\n",
       "      <td>0.5</td>\n",
       "      <td>2.650</td>\n",
       "      <td>winter</td>\n",
       "      <td>Iris-setosa</td>\n",
       "      <td>good quality</td>\n",
       "    </tr>\n",
       "    <tr>\n",
       "      <th>76</th>\n",
       "      <td>6.8</td>\n",
       "      <td>2.8</td>\n",
       "      <td>4.8</td>\n",
       "      <td>1.4</td>\n",
       "      <td>3.950</td>\n",
       "      <td>summer</td>\n",
       "      <td>Iris-versicolor</td>\n",
       "      <td>bad quality</td>\n",
       "    </tr>\n",
       "    <tr>\n",
       "      <th>137</th>\n",
       "      <td>6.4</td>\n",
       "      <td>3.1</td>\n",
       "      <td>5.5</td>\n",
       "      <td>1.8</td>\n",
       "      <td>4.200</td>\n",
       "      <td>winter</td>\n",
       "      <td>Iris-virginica</td>\n",
       "      <td>bad quality</td>\n",
       "    </tr>\n",
       "    <tr>\n",
       "      <th>8</th>\n",
       "      <td>4.4</td>\n",
       "      <td>2.9</td>\n",
       "      <td>1.4</td>\n",
       "      <td>0.2</td>\n",
       "      <td>2.225</td>\n",
       "      <td>summer</td>\n",
       "      <td>Iris-setosa</td>\n",
       "      <td>bad quality</td>\n",
       "    </tr>\n",
       "    <tr>\n",
       "      <th>14</th>\n",
       "      <td>5.8</td>\n",
       "      <td>4.0</td>\n",
       "      <td>1.2</td>\n",
       "      <td>0.2</td>\n",
       "      <td>2.800</td>\n",
       "      <td>summer</td>\n",
       "      <td>Iris-setosa</td>\n",
       "      <td>good quality</td>\n",
       "    </tr>\n",
       "    <tr>\n",
       "      <th>19</th>\n",
       "      <td>5.1</td>\n",
       "      <td>3.8</td>\n",
       "      <td>1.5</td>\n",
       "      <td>0.3</td>\n",
       "      <td>2.675</td>\n",
       "      <td>winter</td>\n",
       "      <td>Iris-setosa</td>\n",
       "      <td>good quality</td>\n",
       "    </tr>\n",
       "    <tr>\n",
       "      <th>109</th>\n",
       "      <td>7.2</td>\n",
       "      <td>3.6</td>\n",
       "      <td>6.1</td>\n",
       "      <td>2.5</td>\n",
       "      <td>4.850</td>\n",
       "      <td>winter</td>\n",
       "      <td>Iris-virginica</td>\n",
       "      <td>bad quality</td>\n",
       "    </tr>\n",
       "    <tr>\n",
       "      <th>107</th>\n",
       "      <td>7.3</td>\n",
       "      <td>2.9</td>\n",
       "      <td>6.3</td>\n",
       "      <td>1.8</td>\n",
       "      <td>4.575</td>\n",
       "      <td>winter</td>\n",
       "      <td>Iris-virginica</td>\n",
       "      <td>good quality</td>\n",
       "    </tr>\n",
       "    <tr>\n",
       "      <th>74</th>\n",
       "      <td>6.4</td>\n",
       "      <td>2.9</td>\n",
       "      <td>4.3</td>\n",
       "      <td>1.3</td>\n",
       "      <td>3.725</td>\n",
       "      <td>summer</td>\n",
       "      <td>Iris-versicolor</td>\n",
       "      <td>good quality</td>\n",
       "    </tr>\n",
       "    <tr>\n",
       "      <th>127</th>\n",
       "      <td>6.1</td>\n",
       "      <td>3.0</td>\n",
       "      <td>4.9</td>\n",
       "      <td>1.8</td>\n",
       "      <td>3.950</td>\n",
       "      <td>winter</td>\n",
       "      <td>Iris-virginica</td>\n",
       "      <td>good quality</td>\n",
       "    </tr>\n",
       "    <tr>\n",
       "      <th>31</th>\n",
       "      <td>5.4</td>\n",
       "      <td>3.4</td>\n",
       "      <td>1.5</td>\n",
       "      <td>0.4</td>\n",
       "      <td>2.675</td>\n",
       "      <td>winter</td>\n",
       "      <td>Iris-setosa</td>\n",
       "      <td>good quality</td>\n",
       "    </tr>\n",
       "    <tr>\n",
       "      <th>63</th>\n",
       "      <td>6.1</td>\n",
       "      <td>2.9</td>\n",
       "      <td>4.7</td>\n",
       "      <td>1.4</td>\n",
       "      <td>3.775</td>\n",
       "      <td>winter</td>\n",
       "      <td>Iris-versicolor</td>\n",
       "      <td>good quality</td>\n",
       "    </tr>\n",
       "    <tr>\n",
       "      <th>15</th>\n",
       "      <td>5.7</td>\n",
       "      <td>4.4</td>\n",
       "      <td>1.5</td>\n",
       "      <td>0.4</td>\n",
       "      <td>3.000</td>\n",
       "      <td>winter</td>\n",
       "      <td>Iris-setosa</td>\n",
       "      <td>good quality</td>\n",
       "    </tr>\n",
       "    <tr>\n",
       "      <th>1</th>\n",
       "      <td>4.9</td>\n",
       "      <td>3.0</td>\n",
       "      <td>1.4</td>\n",
       "      <td>0.2</td>\n",
       "      <td>2.375</td>\n",
       "      <td>winter</td>\n",
       "      <td>Iris-setosa</td>\n",
       "      <td>bad quality</td>\n",
       "    </tr>\n",
       "    <tr>\n",
       "      <th>0</th>\n",
       "      <td>5.1</td>\n",
       "      <td>3.5</td>\n",
       "      <td>1.4</td>\n",
       "      <td>0.2</td>\n",
       "      <td>2.550</td>\n",
       "      <td>summer</td>\n",
       "      <td>Iris-setosa</td>\n",
       "      <td>good quality</td>\n",
       "    </tr>\n",
       "    <tr>\n",
       "      <th>17</th>\n",
       "      <td>5.1</td>\n",
       "      <td>3.5</td>\n",
       "      <td>1.4</td>\n",
       "      <td>0.3</td>\n",
       "      <td>2.575</td>\n",
       "      <td>winter</td>\n",
       "      <td>Iris-setosa</td>\n",
       "      <td>bad quality</td>\n",
       "    </tr>\n",
       "    <tr>\n",
       "      <th>104</th>\n",
       "      <td>6.5</td>\n",
       "      <td>3.0</td>\n",
       "      <td>5.8</td>\n",
       "      <td>2.2</td>\n",
       "      <td>4.375</td>\n",
       "      <td>summer</td>\n",
       "      <td>Iris-virginica</td>\n",
       "      <td>good quality</td>\n",
       "    </tr>\n",
       "  </tbody>\n",
       "</table>\n",
       "</div>"
      ],
      "text/plain": [
       "     sepal_length  sepal_width  petal_length  petal_width  avg_width   season  \\\n",
       "16            5.4          3.9           1.3          0.4      2.750  summer    \n",
       "135           7.7          3.0           6.1          2.3      4.775   winter   \n",
       "89            5.5          2.5           4.0          1.3      3.325   winter   \n",
       "101           5.8          2.7           5.1          1.9      3.875   winter   \n",
       "60            5.0          2.0           3.5          1.0      2.875  summer    \n",
       "120           6.9          3.2           5.7          2.3      4.525  summer    \n",
       "41            4.5          2.3           1.3          0.3      2.100   winter   \n",
       "136           6.3          3.4           5.6          2.4      4.425  summer    \n",
       "12            4.8          3.0           1.4          0.1      2.325  summer    \n",
       "43            5.0          3.5           1.6          0.6      2.675   winter   \n",
       "94            5.6          2.7           4.2          1.3      3.450  summer    \n",
       "148           6.2          3.4           5.4          2.3      4.325  summer    \n",
       "49            5.0          3.3           1.4          0.2      2.475   winter   \n",
       "23            5.1          3.3           1.7          0.5      2.650   winter   \n",
       "76            6.8          2.8           4.8          1.4      3.950  summer    \n",
       "137           6.4          3.1           5.5          1.8      4.200   winter   \n",
       "8             4.4          2.9           1.4          0.2      2.225  summer    \n",
       "14            5.8          4.0           1.2          0.2      2.800  summer    \n",
       "19            5.1          3.8           1.5          0.3      2.675   winter   \n",
       "109           7.2          3.6           6.1          2.5      4.850   winter   \n",
       "107           7.3          2.9           6.3          1.8      4.575   winter   \n",
       "74            6.4          2.9           4.3          1.3      3.725  summer    \n",
       "127           6.1          3.0           4.9          1.8      3.950   winter   \n",
       "31            5.4          3.4           1.5          0.4      2.675   winter   \n",
       "63            6.1          2.9           4.7          1.4      3.775   winter   \n",
       "15            5.7          4.4           1.5          0.4      3.000   winter   \n",
       "1             4.9          3.0           1.4          0.2      2.375   winter   \n",
       "0             5.1          3.5           1.4          0.2      2.550  summer    \n",
       "17            5.1          3.5           1.4          0.3      2.575   winter   \n",
       "104           6.5          3.0           5.8          2.2      4.375  summer    \n",
       "\n",
       "             species       quality  \n",
       "16       Iris-setosa  good quality  \n",
       "135   Iris-virginica  good quality  \n",
       "89   Iris-versicolor   bad quality  \n",
       "101   Iris-virginica   bad quality  \n",
       "60   Iris-versicolor  good quality  \n",
       "120   Iris-virginica  good quality  \n",
       "41       Iris-setosa  good quality  \n",
       "136   Iris-virginica  good quality  \n",
       "12       Iris-setosa   bad quality  \n",
       "43       Iris-setosa  good quality  \n",
       "94   Iris-versicolor   bad quality  \n",
       "148   Iris-virginica  good quality  \n",
       "49       Iris-setosa  good quality  \n",
       "23       Iris-setosa  good quality  \n",
       "76   Iris-versicolor   bad quality  \n",
       "137   Iris-virginica   bad quality  \n",
       "8        Iris-setosa   bad quality  \n",
       "14       Iris-setosa  good quality  \n",
       "19       Iris-setosa  good quality  \n",
       "109   Iris-virginica   bad quality  \n",
       "107   Iris-virginica  good quality  \n",
       "74   Iris-versicolor  good quality  \n",
       "127   Iris-virginica  good quality  \n",
       "31       Iris-setosa  good quality  \n",
       "63   Iris-versicolor  good quality  \n",
       "15       Iris-setosa  good quality  \n",
       "1        Iris-setosa   bad quality  \n",
       "0        Iris-setosa  good quality  \n",
       "17       Iris-setosa   bad quality  \n",
       "104   Iris-virginica  good quality  "
      ]
     },
     "execution_count": 40,
     "metadata": {},
     "output_type": "execute_result"
    }
   ],
   "source": [
    "df=df.sample(n=30)\n",
    "df"
   ]
  },
  {
   "cell_type": "markdown",
   "id": "b3b4f23a-5ba1-46cb-af1e-5dd5c1848c72",
   "metadata": {},
   "source": [
    "sample mean ,median and Standard deviation of dataset"
   ]
  },
  {
   "cell_type": "code",
   "execution_count": 41,
   "id": "49c46e3c-9972-4762-b765-ee236eddeeec",
   "metadata": {},
   "outputs": [
    {
     "data": {
      "text/plain": [
       "5.769999999999999"
      ]
     },
     "execution_count": 41,
     "metadata": {},
     "output_type": "execute_result"
    }
   ],
   "source": [
    "df['sepal_length'].mean()"
   ]
  },
  {
   "cell_type": "code",
   "execution_count": 42,
   "id": "2ce3b8c5-5b00-44ba-ab41-f509374d1498",
   "metadata": {},
   "outputs": [
    {
     "data": {
      "text/plain": [
       "0.8630938735055177"
      ]
     },
     "execution_count": 42,
     "metadata": {},
     "output_type": "execute_result"
    }
   ],
   "source": [
    "df['sepal_length'].std()"
   ]
  },
  {
   "cell_type": "code",
   "execution_count": 43,
   "id": "10afed57-fd98-4151-abcb-c10580574b5c",
   "metadata": {},
   "outputs": [
    {
     "data": {
      "text/plain": [
       "3.1633333333333336"
      ]
     },
     "execution_count": 43,
     "metadata": {},
     "output_type": "execute_result"
    }
   ],
   "source": [
    "df['sepal_width'].mean()"
   ]
  },
  {
   "cell_type": "code",
   "execution_count": 44,
   "id": "aeee63db-7be1-44fc-ae80-3c87d9d377b8",
   "metadata": {},
   "outputs": [
    {
     "data": {
      "text/plain": [
       "0.5061574876447553"
      ]
     },
     "execution_count": 44,
     "metadata": {},
     "output_type": "execute_result"
    }
   ],
   "source": [
    "df['sepal_width'].std()"
   ]
  },
  {
   "cell_type": "code",
   "execution_count": 45,
   "id": "e78742db-c682-47da-9525-4174a051bb96",
   "metadata": {},
   "outputs": [
    {
     "data": {
      "text/plain": [
       "3.4000000000000004"
      ]
     },
     "execution_count": 45,
     "metadata": {},
     "output_type": "execute_result"
    }
   ],
   "source": [
    "df['petal_length'].mean()"
   ]
  },
  {
   "cell_type": "code",
   "execution_count": 46,
   "id": "12882cef-c27a-491a-a26c-70cf838cad87",
   "metadata": {},
   "outputs": [
    {
     "data": {
      "text/plain": [
       "1.9697715603592207"
      ]
     },
     "execution_count": 46,
     "metadata": {},
     "output_type": "execute_result"
    }
   ],
   "source": [
    "df['petal_length'].std()"
   ]
  },
  {
   "cell_type": "code",
   "execution_count": 47,
   "id": "73dfd2bb-c8c4-482d-af9a-f266b738be67",
   "metadata": {},
   "outputs": [
    {
     "data": {
      "text/plain": [
       "1.1099999999999999"
      ]
     },
     "execution_count": 47,
     "metadata": {},
     "output_type": "execute_result"
    }
   ],
   "source": [
    "df['petal_width'].mean()"
   ]
  },
  {
   "cell_type": "code",
   "execution_count": 48,
   "id": "0476b83a-5e1c-4df4-833e-66cfee3b5e3f",
   "metadata": {},
   "outputs": [
    {
     "data": {
      "text/plain": [
       "0.8437804911476557"
      ]
     },
     "execution_count": 48,
     "metadata": {},
     "output_type": "execute_result"
    }
   ],
   "source": [
    "df['petal_width'].std()"
   ]
  },
  {
   "cell_type": "markdown",
   "id": "e5078fca-bf39-453e-beb8-4d60d4584d06",
   "metadata": {},
   "source": [
    "# T Test"
   ]
  },
  {
   "cell_type": "markdown",
   "id": "336f783e-8422-49b1-b7d7-585c4f002830",
   "metadata": {},
   "source": [
    "##### t-test for independent variables, also known as an independent samples t-test or two-sample t-test, is a statistical test used to determine if there is a significant difference between the means of two independent groups. It's commonly used in hypothesis testing when comparing the means of two different populations or groups."
   ]
  },
  {
   "cell_type": "markdown",
   "id": "cf80a05b-ba10-4400-90d3-a9bde92fa3f5",
   "metadata": {},
   "source": [
    "#### We check association between sepal_length and specie by using T-test"
   ]
  },
  {
   "cell_type": "code",
   "execution_count": 49,
   "id": "48bf1428-24fe-4ddd-a3cf-89fc079c7ef2",
   "metadata": {},
   "outputs": [],
   "source": [
    "#Ho: There is a sepal length depend on species.\n",
    "\n",
    "#Ha: There is a sepal length independ on species."
   ]
  },
  {
   "cell_type": "code",
   "execution_count": 50,
   "id": "597a7d90-55c9-41b3-9988-98817f6fc461",
   "metadata": {},
   "outputs": [
    {
     "name": "stdout",
     "output_type": "stream",
     "text": [
      "T-statistic: -7.575127420705001\n",
      "P-value: 1.442912364941225e-07\n",
      "Reject the null hypothesis. There is a sepalwidth depend on species\n"
     ]
    }
   ],
   "source": [
    "group1=df[df['species']=='Iris-setosa']\n",
    "group2=df[df['species']=='Iris-virginica']\n",
    "t_statistic, p_value = ttest_ind(group1['sepal_length'], group2['sepal_length'])\n",
    "print(\"T-statistic:\", t_statistic)\n",
    "print(\"P-value:\", p_value)\n",
    "alpha = 0.05\n",
    "if p_value > alpha:\n",
    "     print(\"Accept null hypothesis. There is  sepalwidth  independ on species\")\n",
    "else:\n",
    "    print (\"Reject the null hypothesis. There is a sepalwidth depend on species\")"
   ]
  },
  {
   "cell_type": "markdown",
   "id": "644ffc23-3375-4f75-bb78-57d6d18dcade",
   "metadata": {},
   "source": [
    "# Couclusion"
   ]
  },
  {
   "cell_type": "markdown",
   "id": "89b1068d-598d-4b64-9f90-e1b8bd170adf",
   "metadata": {},
   "source": [
    "##### With a t-statistic of -15.386 and a p-value of 6.892-28, we fail to reject the null hypothesis at the typical significance level of α = 0.05\n",
    "##### So P-value is greater aplha than null hypothesis is Rejected"
   ]
  },
  {
   "cell_type": "markdown",
   "id": "4e5f0ba5-7bac-41d6-a2e8-a93679280d35",
   "metadata": {},
   "source": [
    "### •We check association between  sepal_width and specie by using T-test"
   ]
  },
  {
   "cell_type": "code",
   "execution_count": 51,
   "id": "cea179fd-6e57-453c-b5c4-8b42e863d419",
   "metadata": {},
   "outputs": [],
   "source": [
    "##### Ho: There is a sepal_width depend on specie.\n",
    "##### Ha: There is a sepal_width independ on specie."
   ]
  },
  {
   "cell_type": "code",
   "execution_count": 52,
   "id": "793d905d-50b9-401f-8534-8b6d2d49973a",
   "metadata": {},
   "outputs": [
    {
     "name": "stdout",
     "output_type": "stream",
     "text": [
      "T-statistic: 1.5606828570912374\n",
      "P-value: 0.13286946852355852\n",
      "Accept null hypothesis. There is  sepalwidth  independ on species\n"
     ]
    }
   ],
   "source": [
    "group1=df[df['species']=='Iris-setosa']\n",
    "group2=df[df['species']=='Iris-virginica']\n",
    "t_statistic, p_value = ttest_ind(group1['sepal_width'], group2['sepal_width'])\n",
    "print(\"T-statistic:\", t_statistic)\n",
    "print(\"P-value:\", p_value)\n",
    "alpha = 0.05\n",
    "if p_value > alpha:\n",
    "     print(\"Accept null hypothesis. There is  sepalwidth  independ on species\")\n",
    "else:\n",
    "    print (\"Reject the null hypothesis. There is a sepalwidth depend on species\")"
   ]
  },
  {
   "cell_type": "markdown",
   "id": "bf97adb1-8d27-4215-885e-27775dfc2745",
   "metadata": {},
   "source": [
    "### Couclusion"
   ]
  },
  {
   "cell_type": "code",
   "execution_count": 55,
   "id": "046da6fe-030c-4215-abcd-2d9cc1557a4d",
   "metadata": {},
   "outputs": [],
   "source": [
    "# With a t-statistic of -15.386 and a p-value of 6.892-28, we fail to reject the null hypothesis at the typical significance level of α = 0.05\n",
    "\n",
    "# So P-value is greater aplha than null hypothesis is Rejected"
   ]
  },
  {
   "cell_type": "markdown",
   "id": "1135af81-4180-44b3-b8e1-b57ab271b9f7",
   "metadata": {},
   "source": [
    "#### •We check association between petal_length and specie by using T-test"
   ]
  },
  {
   "cell_type": "code",
   "execution_count": null,
   "id": "01660991-0139-4a89-b222-44cb03cb237b",
   "metadata": {},
   "outputs": [],
   "source": [
    "##### Ho: There is a petal_length depend on specie.\n",
    "##### Ha: There is a v independ on specie."
   ]
  },
  {
   "cell_type": "code",
   "execution_count": 60,
   "id": "f9c70eb1-05eb-4b90-9918-7b76d3849fd1",
   "metadata": {},
   "outputs": [
    {
     "name": "stdout",
     "output_type": "stream",
     "text": [
      "T-statistic: -33.701223079206045\n",
      "P-value: 1.9788165787818192e-20\n",
      "Reject the null hypothesis. There is a sepalwidth depend on species\n"
     ]
    }
   ],
   "source": [
    "group1=df[df['species']=='Iris-setosa']\n",
    "group2=df[df['species']=='Iris-virginica']\n",
    "t_statistic, p_value = ttest_ind(group1['petal_length'], group2['petal_length'])\n",
    "print(\"T-statistic:\", t_statistic)\n",
    "print(\"P-value:\", p_value)\n",
    "alpha = 0.05\n",
    "if p_value > alpha:\n",
    "     print(\"Accept null hypothesis. There is  sepalwidth  independ on species\")\n",
    "else:\n",
    "    print (\"Reject the null hypothesis. There is a sepalwidth depend on species\")"
   ]
  },
  {
   "cell_type": "markdown",
   "id": "3be57930-3821-4b61-9033-30e20e7a5b64",
   "metadata": {},
   "source": [
    "### Couclusion"
   ]
  },
  {
   "cell_type": "code",
   "execution_count": null,
   "id": "ccdaabfc-267a-45ad-939c-4c8db3a7587f",
   "metadata": {},
   "outputs": [],
   "source": [
    "With a t-statistic of -15.386 and a p-value of 6.892-28, we fail to reject the null hypothesis at the typical significance level of α = 0.05\n",
    "\n",
    "So P-value is greater aplha than null hypothesis is Rejected"
   ]
  },
  {
   "cell_type": "markdown",
   "id": "ae0cfd04-0f4d-4562-aa9d-ce848dfb452d",
   "metadata": {},
   "source": [
    "### •We check association between petal_width and specie by using T-test"
   ]
  },
  {
   "cell_type": "code",
   "execution_count": null,
   "id": "bee73165-f183-49ca-943d-60713f7a6746",
   "metadata": {},
   "outputs": [],
   "source": [
    "##### Ho: There is a petal_width depend on specie.\n",
    "##### Ha: There is a petal_width independ on specie."
   ]
  },
  {
   "cell_type": "code",
   "execution_count": 59,
   "id": "47b7fa30-1ea3-4089-aa25-493840f337e7",
   "metadata": {},
   "outputs": [
    {
     "name": "stdout",
     "output_type": "stream",
     "text": [
      "T-statistic: -21.409878161327377\n",
      "P-value: 3.1937208636386184e-16\n",
      "Reject the null hypothesis. There is a sepalwidth depend on species\n"
     ]
    }
   ],
   "source": [
    "group1=df[df['species']=='Iris-setosa']\n",
    "group2=df[df['species']=='Iris-virginica']\n",
    "t_statistic, p_value = ttest_ind(group1['petal_width'], group2['petal_width'])\n",
    "print(\"T-statistic:\", t_statistic)\n",
    "print(\"P-value:\", p_value)\n",
    "alpha = 0.05\n",
    "if p_value > alpha:\n",
    "     print(\"Accept null hypothesis. There is  sepalwidth  independ on species\")\n",
    "else:\n",
    "    print (\"Reject the null hypothesis. There is a sepalwidth depend on species\")"
   ]
  },
  {
   "cell_type": "markdown",
   "id": "577b630c-eb08-4770-a84f-45335dafe9f0",
   "metadata": {},
   "source": [
    "### conclusion"
   ]
  },
  {
   "cell_type": "code",
   "execution_count": null,
   "id": "f916a608-ed68-4d92-acc2-fba0640eb477",
   "metadata": {},
   "outputs": [],
   "source": [
    "With a t-statistic of -15.386 and a p-value of 6.892-28, we fail to reject the null hypothesis at the typical significance level of α = 0.05\n",
    "\n",
    "So P-value is greater aplha than null hypothesis is Rejected"
   ]
  },
  {
   "cell_type": "markdown",
   "id": "8175a468-0b20-428a-90d4-bc6921f9746f",
   "metadata": {},
   "source": [
    "# Chi-square test"
   ]
  },
  {
   "cell_type": "markdown",
   "id": "018944d8-56b3-4a56-997f-c5a7d73b0e4c",
   "metadata": {},
   "source": [
    "\n",
    "##### The Chi-Square test is a statistical procedure for determining the difference between observed and expected data. This test can also be used to determine whether it correlates to the categorical variables in our data. It helps to find out whether a difference between two categorical variables is due to chance or a relationship between them."
   ]
  },
  {
   "cell_type": "markdown",
   "id": "99c61bbd-535c-4f2c-b5b7-ce3f803a3ad1",
   "metadata": {},
   "source": [
    "##### Ho: There is a species depend on season.\n",
    "##### Ha: There is a species indeped on season."
   ]
  },
  {
   "cell_type": "code",
   "execution_count": 57,
   "id": "70cebaee-0ff7-419b-b3fb-7cc0b0c00dde",
   "metadata": {},
   "outputs": [
    {
     "data": {
      "text/html": [
       "<div>\n",
       "<style scoped>\n",
       "    .dataframe tbody tr th:only-of-type {\n",
       "        vertical-align: middle;\n",
       "    }\n",
       "\n",
       "    .dataframe tbody tr th {\n",
       "        vertical-align: top;\n",
       "    }\n",
       "\n",
       "    .dataframe thead th {\n",
       "        text-align: right;\n",
       "    }\n",
       "</style>\n",
       "<table border=\"1\" class=\"dataframe\">\n",
       "  <thead>\n",
       "    <tr style=\"text-align: right;\">\n",
       "      <th>species</th>\n",
       "      <th>Iris-setosa</th>\n",
       "      <th>Iris-versicolor</th>\n",
       "      <th>Iris-virginica</th>\n",
       "      <th>All</th>\n",
       "    </tr>\n",
       "    <tr>\n",
       "      <th>season</th>\n",
       "      <th></th>\n",
       "      <th></th>\n",
       "      <th></th>\n",
       "      <th></th>\n",
       "    </tr>\n",
       "  </thead>\n",
       "  <tbody>\n",
       "    <tr>\n",
       "      <th>summer</th>\n",
       "      <td>5</td>\n",
       "      <td>4</td>\n",
       "      <td>4</td>\n",
       "      <td>13</td>\n",
       "    </tr>\n",
       "    <tr>\n",
       "      <th>winter</th>\n",
       "      <td>9</td>\n",
       "      <td>2</td>\n",
       "      <td>6</td>\n",
       "      <td>17</td>\n",
       "    </tr>\n",
       "    <tr>\n",
       "      <th>All</th>\n",
       "      <td>14</td>\n",
       "      <td>6</td>\n",
       "      <td>10</td>\n",
       "      <td>30</td>\n",
       "    </tr>\n",
       "  </tbody>\n",
       "</table>\n",
       "</div>"
      ],
      "text/plain": [
       "species  Iris-setosa  Iris-versicolor  Iris-virginica  All\n",
       "season                                                    \n",
       "summer             5                4               4   13\n",
       "winter             9                2               6   17\n",
       "All               14                6              10   30"
      ]
     },
     "execution_count": 57,
     "metadata": {},
     "output_type": "execute_result"
    }
   ],
   "source": [
    "contingency_table=pd.crosstab(df['season'],df['species'],margins=True)\n",
    "contingency_table"
   ]
  },
  {
   "cell_type": "code",
   "execution_count": 58,
   "id": "d84f4e35-50af-4b86-953d-664524c1cb5b",
   "metadata": {},
   "outputs": [
    {
     "name": "stdout",
     "output_type": "stream",
     "text": [
      "Chi-square statistic: 1.7065287653522943\n",
      "p_value: 0.944616123497113\n",
      "Degrees of freedom: 6\n",
      "Expected frequencies table:\n",
      "[[ 6.06666667  2.6         4.33333333 13.        ]\n",
      " [ 7.93333333  3.4         5.66666667 17.        ]\n",
      " [14.          6.         10.         30.        ]]\n",
      "Accept null hypothesis. There is  species  independ on season\n"
     ]
    }
   ],
   "source": [
    "from scipy.stats import chi2\n",
    "chi2, p, dof, expected = stats.chi2_contingency(contingency_table)\n",
    "print(\"Chi-square statistic:\", chi2)\n",
    "print(\"p_value:\", p)\n",
    "print(\"Degrees of freedom:\", dof)\n",
    "print(\"Expected frequencies table:\")\n",
    "print(expected)\n",
    "p_value=1.0\n",
    "alpha=0.05\n",
    "if p_value > alpha:\n",
    "    print(\"Accept null hypothesis. There is  species  independ on season\")\n",
    "else:\n",
    "    print(\"Reject the null hypothesis. There is a species depend on season\")"
   ]
  },
  {
   "cell_type": "markdown",
   "id": "b0693e84-e792-4cbe-aa1e-9912ed35dda6",
   "metadata": {},
   "source": [
    "### Conclusion"
   ]
  },
  {
   "cell_type": "markdown",
   "id": "de63e810-ce7c-4946-a5fa-c62b72c68936",
   "metadata": {},
   "source": [
    "\n",
    "With a t-statistic of 0.0 and a p-value of 1.0, we fail to reject the null hypothesis at the typical significance level of α = 0.05.\n",
    "\n",
    "So p-value is greater alpha then null hypothesis is accepted"
   ]
  },
  {
   "cell_type": "markdown",
   "id": "932b2daa-b39a-4792-bb26-3c7396d4acce",
   "metadata": {},
   "source": [
    "# Anova Test"
   ]
  },
  {
   "cell_type": "markdown",
   "id": "c7ebef07-1dba-417c-a003-7acb72d411b3",
   "metadata": {},
   "source": [
    "##### ANOVA, which stands for Analysis of Variance, is a statistical test used to analyze the difference between the means of more than two groups."
   ]
  },
  {
   "cell_type": "markdown",
   "id": "d12c658a-5341-4bed-b8d3-11ea3c905ab3",
   "metadata": {},
   "source": [
    "##### A one-way ANOVA uses one independent variable, while a two-way ANOVA uses two independent variables."
   ]
  },
  {
   "cell_type": "code",
   "execution_count": null,
   "id": "2318f39d-d549-4d08-b742-0514166293eb",
   "metadata": {},
   "outputs": [],
   "source": [
    "Ho: There is a sepal_length,sepal_width,petal_length,petal_length depend on species.\n",
    "Ha: There is sepal_length,sepal_width,petal_length,petal_length independ on species."
   ]
  },
  {
   "cell_type": "code",
   "execution_count": 54,
   "id": "283d7b35-d231-43e4-8777-af790aac6443",
   "metadata": {},
   "outputs": [
    {
     "name": "stdout",
     "output_type": "stream",
     "text": [
      "\n",
      "ANOVA analysis for species:\n",
      "sepal_length: F-statistic = 25.316639096457674, p-value = 6.423383087837624e-07\n",
      "sepal_width: F-statistic = 7.174222867855634, p-value = 0.0031711133092745666\n",
      "petal_length: F-statistic = 468.9473684210481, p-value = 1.0787769541613026e-21\n",
      "petal_width: F-statistic = 254.8702948053735, p-value = 2.962039807045007e-18\n",
      "Reject the null hypothesis. There is a sepal_length,sepal_width,petal_length,petal_width depend on species\n"
     ]
    }
   ],
   "source": [
    "from scipy.stats import f_oneway\n",
    "categorical_factors = ['species']\n",
    "\n",
    "# Perform ANOVA for each categorical factor and each test score\n",
    "for factor in categorical_factors:\n",
    "    print(f\"\\nANOVA analysis for {factor}:\")\n",
    "    for score_type in ['sepal_length', 'sepal_width', 'petal_length','petal_width']:\n",
    "        group_data = []\n",
    "        groups = df.groupby(factor)\n",
    "        for group_name, data in groups:\n",
    "            group_data.append(data[score_type])\n",
    "        f_statistic, p_value = f_oneway(*group_data)\n",
    "        print(f\"{score_type}: F-statistic = {f_statistic}, p-value = {p_value}\")\n",
    "alpha = 0.05\n",
    "if p_value < alpha:\n",
    "     print(\"Reject the null hypothesis. There is a sepal_length,sepal_width,petal_length,petal_width depend on species\")\n",
    "else:\n",
    "    print (\"Accept null hypothesis. There is sepal_length,sepal_width,petal_length,petal_width independ on species\")"
   ]
  },
  {
   "cell_type": "markdown",
   "id": "dc3c001e-512a-47f5-9cb1-e8f53bf7b92c",
   "metadata": {},
   "source": [
    "### conclusion"
   ]
  },
  {
   "cell_type": "markdown",
   "id": "869a9e4c-bc19-48d7-a71f-d17876404a03",
   "metadata": {},
   "source": [
    "##### p-values for all three scores (sepal_length, sepal_width, petal_length, and petal_width) are greater than the typical significance level of 0.05, we fail to reject the null\n",
    "\n",
    "##### hypothesis. This implies that there is no evidence to suggest that gender has a significant effect on sepal_length,sepal_width,petal_length or petal_width writing scores.d"
   ]
  },
  {
   "cell_type": "code",
   "execution_count": null,
   "id": "50f5b9d1-5da0-43d9-9f80-86b7c9a0bbb7",
   "metadata": {},
   "outputs": [],
   "source": []
  }
 ],
 "metadata": {
  "kernelspec": {
   "display_name": "Python 3 (ipykernel)",
   "language": "python",
   "name": "python3"
  },
  "language_info": {
   "codemirror_mode": {
    "name": "ipython",
    "version": 3
   },
   "file_extension": ".py",
   "mimetype": "text/x-python",
   "name": "python",
   "nbconvert_exporter": "python",
   "pygments_lexer": "ipython3",
   "version": "3.11.4"
  }
 },
 "nbformat": 4,
 "nbformat_minor": 5
}
